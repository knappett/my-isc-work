{
 "cells": [
  {
   "cell_type": "markdown",
   "metadata": {},
   "source": [
    "# Exercise 11: Object Oriented Programming (OOP)"
   ]
  },
  {
   "cell_type": "markdown",
   "metadata": {},
   "source": [
    "## Aim: Introduce OOP: classes, instances, methods and attributes"
   ]
  },
  {
   "cell_type": "markdown",
   "metadata": {},
   "source": [
    "### Issues covered:\n",
    "\n",
    "- Basic OOP terminology\n",
    "- Define your own methods\n",
    "- Interacting with instances of your class (objects)\n",
    "- Encapsulating the data and functions in a single class\n"
   ]
  },
  {
   "cell_type": "markdown",
   "metadata": {},
   "source": [
    "## 1. Let's use the class we used in the presentation `DataStore`"
   ]
  },
  {
   "cell_type": "markdown",
   "metadata": {},
   "source": [
    ">**NOTE:** For this section, you will need to use the terminal"
   ]
  },
  {
   "cell_type": "markdown",
   "metadata": {},
   "source": [
    "Copy the file \"example_code/data_store.py\" to your working directory."
   ]
  },
  {
   "cell_type": "markdown",
   "metadata": {},
   "source": [
    "Test if you can import the module by running:\n",
    "\n",
    "`python -c \"import data_store\"`\n",
    "\n",
    "(If python raises an exception, what can you do to fix it?)"
   ]
  },
  {
   "cell_type": "markdown",
   "metadata": {},
   "source": [
    "Read through the code in \"data_store.py\" so that you understand how it works."
   ]
  },
  {
   "cell_type": "markdown",
   "metadata": {},
   "source": [
    "## 2. Let's use this class and add some measurements to our data store"
   ]
  },
  {
   "cell_type": "markdown",
   "metadata": {},
   "source": [
    "import the `DataStore` class from data_store.py"
   ]
  },
  {
   "cell_type": "code",
   "execution_count": 29,
   "metadata": {},
   "outputs": [],
   "source": [
    "from data_store import DataStore"
   ]
  },
  {
   "cell_type": "markdown",
   "metadata": {},
   "source": [
    "Create a variable `store` as an instance of `DataStore`"
   ]
  },
  {
   "cell_type": "code",
   "execution_count": 30,
   "metadata": {},
   "outputs": [],
   "source": [
    "# A string is an instance of the string class, so here we're creating a variable which is an instance of the DataStore class. The methods defined in DataStore than then be used on that instance\n",
    "store = DataStore()"
   ]
  },
  {
   "cell_type": "markdown",
   "metadata": {},
   "source": [
    "Work with the instance to add two measurements (They can be any value and date you like). \n",
    "\n",
    "> **Remember:** You can look at the help for the class or docstrings in the code to help you find the required arguments. The docstrings can also give you useful information, such as the exptected types for the input.\n"
   ]
  },
  {
   "cell_type": "code",
   "execution_count": 31,
   "metadata": {},
   "outputs": [],
   "source": [
    "store.add_measurement('23/02/2023',5.32)\n",
    "store.add_measurement('24/02/2023',7.90)\n",
    "store.add_measurement('27/02/2023',10.76)"
   ]
  },
  {
   "cell_type": "markdown",
   "metadata": {},
   "source": [
    "Finally, use the `print_measurements` method to display your data"
   ]
  },
  {
   "cell_type": "code",
   "execution_count": 32,
   "metadata": {},
   "outputs": [
    {
     "name": "stdout",
     "output_type": "stream",
     "text": [
      "23/02/2023 5.32\n",
      "24/02/2023 7.9\n",
      "27/02/2023 10.76\n"
     ]
    }
   ],
   "source": [
    "store.print_measurements()"
   ]
  },
  {
   "cell_type": "markdown",
   "metadata": {},
   "source": [
    "## 3. Let's extend the capability of the `DataStore` class"
   ]
  },
  {
   "cell_type": "markdown",
   "metadata": {},
   "source": [
    "Edit the `DataStore` class to add a new method called `get_max` that returns the maximum measurment value and the time of that measurement."
   ]
  },
  {
   "cell_type": "markdown",
   "metadata": {},
   "source": [
    "Edit the `DataStore` class to add a new method called `get_min` that returns the minumum measurment value and the time of that measurement."
   ]
  },
  {
   "cell_type": "markdown",
   "metadata": {},
   "source": [
    "Edit the `DataStore` class to add a new method called `get_mean` that returns the mean measurement value."
   ]
  },
  {
   "cell_type": "markdown",
   "metadata": {},
   "source": [
    "Import the `DataStore` class"
   ]
  },
  {
   "cell_type": "code",
   "execution_count": 33,
   "metadata": {},
   "outputs": [
    {
     "name": "stdout",
     "output_type": "stream",
     "text": [
      "[5.32, 7.9, 10.76]\n",
      "time, max:  ['27/02/2023', 10.76]\n",
      "time, min:  ['23/02/2023', 5.32]\n",
      "mean:  7.993333333333333\n"
     ]
    }
   ],
   "source": [
    "print(store.measurements)\n",
    "print('time, max: ', store.get_max())\n",
    "print('time, min: ', store.get_min())\n",
    "print('mean: ', store.get_mean())"
   ]
  },
  {
   "cell_type": "markdown",
   "metadata": {},
   "source": [
    "Create a variable `store` and create and instance of the `DataStore`"
   ]
  },
  {
   "cell_type": "code",
   "execution_count": 34,
   "metadata": {},
   "outputs": [],
   "source": [
    "store = DataStore()"
   ]
  },
  {
   "cell_type": "markdown",
   "metadata": {},
   "source": [
    "Add measurements 5, 15 and 10. On dates \"2021-05-01\", \"2021-05-02\" and \"2021-05-03\""
   ]
  },
  {
   "cell_type": "code",
   "execution_count": 35,
   "metadata": {},
   "outputs": [],
   "source": [
    "store.add_measurement('2021-05-01',5)\n",
    "store.add_measurement('2021-05-02',10)\n",
    "store.add_measurement('2021-05-03',15)"
   ]
  },
  {
   "cell_type": "markdown",
   "metadata": {},
   "source": [
    "Try out your new methods to get the max, mean and min values."
   ]
  },
  {
   "cell_type": "code",
   "execution_count": 36,
   "metadata": {},
   "outputs": [
    {
     "name": "stdout",
     "output_type": "stream",
     "text": [
      "[5, 10, 15]\n",
      "time, max:  ['2021-05-03', 15]\n",
      "time, min:  ['2021-05-01', 5]\n",
      "mean:  10\n"
     ]
    }
   ],
   "source": [
    "print(store.measurements)\n",
    "print('time, max: ', store.get_max())\n",
    "print('time, min: ', store.get_min())\n",
    "print('mean: ', store.get_mean())"
   ]
  },
  {
   "cell_type": "code",
   "execution_count": null,
   "metadata": {},
   "outputs": [],
   "source": []
  },
  {
   "cell_type": "code",
   "execution_count": null,
   "metadata": {},
   "outputs": [],
   "source": []
  }
 ],
 "metadata": {
  "kernelspec": {
   "display_name": "Python 3 + Jaspy",
   "language": "python",
   "name": "jaspy"
  },
  "language_info": {
   "codemirror_mode": {
    "name": "ipython",
    "version": 3
   },
   "file_extension": ".py",
   "mimetype": "text/x-python",
   "name": "python",
   "nbconvert_exporter": "python",
   "pygments_lexer": "ipython3",
   "version": "3.10.5"
  }
 },
 "nbformat": 4,
 "nbformat_minor": 4
}
