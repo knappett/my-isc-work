{
 "cells": [
  {
   "cell_type": "markdown",
   "metadata": {},
   "source": [
    "# Tuples in Python\n",
    "\n",
    "## 1. Define a Tuple\n",
    "A tuple in python is a set of variables grouped together in the same way as a list, except a tuple is __immutable__ (i.e once it is defined it cannot be changed).\n",
    "\n",
    "In a lot of cases, python will actually use tuple assignment without the programmer even noticing, as I learned from writing this notebook!\n",
    "\n",
    "We define tuples using standard brackets `()` instead of square brackets `[]` like for lists, but a tuple is indexed in the same way as a list. "
   ]
  },
  {
   "cell_type": "code",
   "execution_count": 2,
   "metadata": {
    "collapsed": true,
    "jupyter": {
     "outputs_hidden": true
    },
    "tags": []
   },
   "outputs": [
    {
     "name": "stdout",
     "output_type": "stream",
     "text": [
      "(1, 3, 5, 7) (2, 4, 6, 8)\n"
     ]
    }
   ],
   "source": [
    "odds = (1, 3, 5, 7)\n",
    "evens = (2, 4, 6, 8)\n",
    "print(odds, evens)"
   ]
  },
  {
   "cell_type": "markdown",
   "metadata": {},
   "source": [
    "## 2. Single Item Tuples\n",
    "Sometimes described as a \"syntactic wart\" of python, you have to use an extra comma to define a single item, otherwise python will drop the brackets altogether."
   ]
  },
  {
   "cell_type": "code",
   "execution_count": 2,
   "metadata": {
    "collapsed": true,
    "jupyter": {
     "outputs_hidden": true
    },
    "tags": []
   },
   "outputs": [
    {
     "name": "stdout",
     "output_type": "stream",
     "text": [
      "Mynum:  <class 'int'>\n",
      "Mytuple:  <class 'tuple'>\n"
     ]
    }
   ],
   "source": [
    "mynum   = (142857)\n",
    "mytuple = (142857,)\n",
    "print('Mynum: ',type(mynum))\n",
    "print('Mytuple: ',type(mytuple))"
   ]
  },
  {
   "cell_type": "markdown",
   "metadata": {},
   "source": [
    "## 3. Context and multiple variable assignment\n",
    "When defining a tuple, the brackets aren't actually required if the context is enough. i.e defining a single tuple with multiple values separated by commas."
   ]
  },
  {
   "cell_type": "code",
   "execution_count": 3,
   "metadata": {
    "collapsed": true,
    "jupyter": {
     "outputs_hidden": true
    },
    "tags": []
   },
   "outputs": [
    {
     "name": "stdout",
     "output_type": "stream",
     "text": [
      "<class 'tuple'>\n"
     ]
    }
   ],
   "source": [
    "primes = 2,3,5,7\n",
    "print(type(primes))"
   ]
  },
  {
   "cell_type": "markdown",
   "metadata": {},
   "source": [
    "The brackets are required if you're trying to create a more complex grouping of tuple items. i.e defining two tuples at once."
   ]
  },
  {
   "cell_type": "code",
   "execution_count": 4,
   "metadata": {},
   "outputs": [],
   "source": [
    "Earth, Sun = (1,0),(0,0) # Defining coordinates relative to origin (Sun)"
   ]
  },
  {
   "cell_type": "markdown",
   "metadata": {},
   "source": [
    "You can use multi-variable assignment in general to assign two variables of the same or different types, not simply limited to tuples.\n",
    "Behind the scenes python performs a tuple-to-tuple assignment, but then separates the variables as needed."
   ]
  },
  {
   "cell_type": "code",
   "execution_count": 5,
   "metadata": {},
   "outputs": [],
   "source": [
    "index, coefficient, value = 1, 16, 2"
   ]
  },
  {
   "cell_type": "markdown",
   "metadata": {},
   "source": [
    "## 4. Tuples as return values\n",
    "Python functions can be written to return multiple values, which will be passed as a single tuple. That way the function output can be captured in a single tuple variable or split into individual items at the point of the function call."
   ]
  },
  {
   "cell_type": "code",
   "execution_count": 7,
   "metadata": {
    "collapsed": true,
    "jupyter": {
     "outputs_hidden": true
    },
    "tags": []
   },
   "outputs": [
    {
     "name": "stdout",
     "output_type": "stream",
     "text": [
      "(8, 0) <class 'tuple'>\n",
      "8 0\n",
      "12 0\n"
     ]
    }
   ],
   "source": [
    "def maxmin(myarray):\n",
    "    maxV, minV = -999, 999\n",
    "    for value in myarray:\n",
    "        if value > maxV:\n",
    "            maxV = value\n",
    "        if value < minV:\n",
    "            minV = value\n",
    "    return maxV, minV\n",
    "\n",
    "listA = [1,6,3,4,1,0,3,6,8]\n",
    "listB = [2,9,12,7,7,1,1,4,0]\n",
    "\n",
    "singleOut = maxmin(listA)\n",
    "print(singleOut, type(singleOut))\n",
    "maxA, minA = singleOut\n",
    "\n",
    "maxB, minB = maxmin(listB)\n",
    "print(maxA, minA)\n",
    "print(maxB, minB)"
   ]
  },
  {
   "cell_type": "markdown",
   "metadata": {},
   "source": [
    "## 5. Other uses of tuples\n",
    "A particularly handy use of tuples is for variable swapping (I didn't know python allowed this until writing this notebook!)"
   ]
  },
  {
   "cell_type": "code",
   "execution_count": 8,
   "metadata": {
    "collapsed": true,
    "jupyter": {
     "outputs_hidden": true
    },
    "tags": []
   },
   "outputs": [
    {
     "name": "stdout",
     "output_type": "stream",
     "text": [
      "10 0\n"
     ]
    }
   ],
   "source": [
    "left, right = 0, 10\n",
    "right, left = left, right\n",
    "\n",
    "print(left, right)"
   ]
  },
  {
   "cell_type": "markdown",
   "metadata": {},
   "source": [
    "Python also allows a direct unpacking of a list into multiple variables which will use a tuple assignment in the background (doesn't immediately look like any tuples are used)."
   ]
  },
  {
   "cell_type": "code",
   "execution_count": 5,
   "metadata": {
    "collapsed": true,
    "jupyter": {
     "outputs_hidden": true
    },
    "tags": []
   },
   "outputs": [
    {
     "name": "stdout",
     "output_type": "stream",
     "text": [
      "Red\n"
     ]
    }
   ],
   "source": [
    "colours = ['Red','Blue','Green']\n",
    "red, blue, green = colours # Note: the number of variables must match the length of the list.\n",
    "print(red)"
   ]
  },
  {
   "cell_type": "markdown",
   "metadata": {},
   "source": [
    "Finally, Tuples are also used in loops in different ways. Firstly, you can iterate through a list of tuples, assigning the tuple items to list variables."
   ]
  },
  {
   "cell_type": "code",
   "execution_count": 10,
   "metadata": {
    "collapsed": true,
    "jupyter": {
     "outputs_hidden": true
    },
    "tags": []
   },
   "outputs": [
    {
     "name": "stdout",
     "output_type": "stream",
     "text": [
      "1 100 10\n",
      "2 200 20\n",
      "3 300 30\n"
     ]
    }
   ],
   "source": [
    "pairs = [(1,10,100),(2,20,200),(3,30,300)]\n",
    "for a,b,c in pairs:\n",
    "    print(a,c,b)"
   ]
  },
  {
   "cell_type": "markdown",
   "metadata": {},
   "source": [
    "Secondly in something very useful for list iteration, you can use tuple assignment in conjunction with the `enumerate` function to iterate per item in a list, while retrieving the index of that item in the list."
   ]
  },
  {
   "cell_type": "code",
   "execution_count": 11,
   "metadata": {
    "tags": []
   },
   "outputs": [
    {
     "name": "stdout",
     "output_type": "stream",
     "text": [
      "A 0\n",
      "B 1\n",
      "C 2\n"
     ]
    }
   ],
   "source": [
    "for index, value in enumerate(['A','B','C']):\n",
    "    print(value, index)"
   ]
  },
  {
   "cell_type": "markdown",
   "metadata": {},
   "source": [
    "Thirdly, tuples can be used in connection with the `zip` function to iterate through multiple arrays at the same time. The zip function will create a list of tuples the same length as the shortest list for iteration."
   ]
  },
  {
   "cell_type": "code",
   "execution_count": 8,
   "metadata": {},
   "outputs": [
    {
     "name": "stdout",
     "output_type": "stream",
     "text": [
      "(1, 1)\n",
      "(2, 2)\n",
      "(3, 4)\n"
     ]
    }
   ],
   "source": [
    "listC = [1,2,3]\n",
    "listD = [1,2,4,5]\n",
    "for items in zip(listC,listD):\n",
    "    print(items)"
   ]
  },
  {
   "cell_type": "markdown",
   "metadata": {},
   "source": [
    "To summarise:\n",
    "- tuples are immutable versions of lists.\n",
    "- they are defined with standard brackets but indexed with square brackets.\n",
    "- they are used in many different cases as the default for combining and defining variables.\n",
    "- there are some surprising use cases for tuples in places you wouldn't expect!"
   ]
  }
 ],
 "metadata": {
  "kernelspec": {
   "display_name": "Python 3 (ipykernel)",
   "language": "python",
   "name": "python3"
  },
  "language_info": {
   "codemirror_mode": {
    "name": "ipython",
    "version": 3
   },
   "file_extension": ".py",
   "mimetype": "text/x-python",
   "name": "python",
   "nbconvert_exporter": "python",
   "pygments_lexer": "ipython3",
   "version": "3.9.13"
  }
 },
 "nbformat": 4,
 "nbformat_minor": 4
}
